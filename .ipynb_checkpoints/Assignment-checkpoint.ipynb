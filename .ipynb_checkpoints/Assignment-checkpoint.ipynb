{
 "cells": [
  {
   "cell_type": "code",
   "execution_count": null,
   "id": "57884389-dde2-4372-bdf7-ee24b8e0947a",
   "metadata": {},
   "outputs": [],
   "source": [
    "# 1) What are the types of Applications?\n",
    "\n",
    "Spotify, Netflix, Dropbox, Instagram, Uber, Github"
   ]
  },
  {
   "cell_type": "code",
   "execution_count": null,
   "id": "233de1a1-7ead-4326-b956-397ceda83440",
   "metadata": {},
   "outputs": [],
   "source": [
    "# 2) What is programing? \n",
    "Programming is the process of writing instructions for a computer to perform a task. "
   ]
  },
  {
   "cell_type": "code",
   "execution_count": 5,
   "id": "b9c6fdbd-51d8-4fad-8e8b-4d489b7d4e2c",
   "metadata": {},
   "outputs": [],
   "source": [
    "# 3) What is Python? \n",
    "Python is an interpreted, object-oriented, high-level programming language with dynamic semantics."
   ]
  },
  {
   "cell_type": "code",
   "execution_count": 29,
   "id": "b2830d5e-77db-4c60-820e-be5f7e687f1e",
   "metadata": {},
   "outputs": [
    {
     "name": "stdin",
     "output_type": "stream",
     "text": [
      "Enter the number : 5\n"
     ]
    },
    {
     "name": "stdout",
     "output_type": "stream",
     "text": [
      "Number is positive\n"
     ]
    }
   ],
   "source": [
    "# 4) Write a Python program to check if a number is positive, negative or zero.\n",
    "\n",
    "a = int(input(\"Enter the number :\"))\n",
    "\n",
    "if a > 0 :\n",
    "    print(\"Number is positive\")\n",
    "elif a < 0:\n",
    "    print(\"Number is negative\")\n",
    "elif a == 0:\n",
    "    print(\"Number is zero\")\n",
    "    "
   ]
  },
  {
   "cell_type": "code",
   "execution_count": 33,
   "id": "e6762e39-70cb-430e-ba01-c019627660cc",
   "metadata": {},
   "outputs": [
    {
     "name": "stdin",
     "output_type": "stream",
     "text": [
      "Enter the number :  3\n"
     ]
    },
    {
     "name": "stdout",
     "output_type": "stream",
     "text": [
      "factioral number is : 6\n"
     ]
    }
   ],
   "source": [
    "#5) Write a Python program to get the Factorial number of given numbers.\n",
    "\n",
    "f=1\n",
    "num = int(input(\"Enter the number : \"))\n",
    "for i in range(1, num + 1):\n",
    "    f = f*i\n",
    "print(f\"factioral number is : {f}\")"
   ]
  },
  {
   "cell_type": "code",
   "execution_count": null,
   "id": "19c7813d-efef-4439-be63-b882f33372c7",
   "metadata": {},
   "outputs": [],
   "source": [
    "# 6) Write a Python program to get the Fibonacci series of given range. \n",
    "\n"
   ]
  },
  {
   "cell_type": "code",
   "execution_count": null,
   "id": "f4153931-fd74-4aae-a371-dd8ee5f7642a",
   "metadata": {},
   "outputs": [],
   "source": [
    "# 7) How memory is managed in Python?"
   ]
  },
  {
   "cell_type": "code",
   "execution_count": null,
   "id": "6740cd1e-e84f-4bc5-89e8-732b076643e5",
   "metadata": {},
   "outputs": [],
   "source": [
    "# 8) What is the purpose continuing statement in python?\n",
    "Python Continue statement is a loop control statement that forces to execute the next iteration of the loop \n",
    "while skipping the rest of the code inside the loop for the current iteration only"
   ]
  },
  {
   "cell_type": "code",
   "execution_count": 37,
   "id": "8758818b-47c0-4ce1-97fb-d0fe72306c0b",
   "metadata": {},
   "outputs": [
    {
     "name": "stdout",
     "output_type": "stream",
     "text": [
      "Before swapping : 1 2\n",
      "After swapping :  2 1\n"
     ]
    }
   ],
   "source": [
    "# 9) Write python program that swap two number with temp variable and without temp variable. \n",
    "\n",
    "a,b = 1,2\n",
    "\n",
    "print(\"Before swapping :\", a,b)\n",
    "\n",
    "a,b = b,a\n",
    "\n",
    "print(\"After swapping : \", a,b)"
   ]
  },
  {
   "cell_type": "code",
   "execution_count": 41,
   "id": "ab76e7a1-972c-4966-b119-fed9379598bd",
   "metadata": {},
   "outputs": [
    {
     "name": "stdin",
     "output_type": "stream",
     "text": [
      "Enter the number :  2\n"
     ]
    },
    {
     "name": "stdout",
     "output_type": "stream",
     "text": [
      "Number is even\n"
     ]
    }
   ],
   "source": [
    "#10) Write a Python program to find whether a given number is even or odd, print out an appropriate message to the user. \n",
    "\n",
    "a = int(input(\"Enter the number : \"))\n",
    "\n",
    "if a%2 == 0 :\n",
    "    print(\"Number is even\")\n",
    "elif a%2 == 1:\n",
    "    print(\"Number is odd\")"
   ]
  },
  {
   "cell_type": "code",
   "execution_count": 45,
   "id": "57871612-a46c-43b8-b2ed-35c00beaaad1",
   "metadata": {},
   "outputs": [
    {
     "name": "stdout",
     "output_type": "stream",
     "text": [
      "Letter is vowel\n",
      "Letter is not vowel\n"
     ]
    }
   ],
   "source": [
    "#11) Write a Python program to test whether a passed letter is a vowel or not. \n",
    "\n",
    "def vowelornot(x):\n",
    "    if(x == 'a' or x == 'e' or x == 'i' or \n",
    "        x == 'o' or x == 'u' or x == 'A' or \n",
    "        x == 'E' or x == 'I' or x == 'O' or \n",
    "        x == 'U'):\n",
    "        print(\"Letter is vowel\")\n",
    "    else:\n",
    "        print(\"Letter is not vowel\")\n",
    "\n",
    "vowelornot('a')\n",
    "vowelornot('z')"
   ]
  },
  {
   "cell_type": "code",
   "execution_count": 13,
   "id": "47845f21-d73d-46c6-8c90-89457f208cfb",
   "metadata": {},
   "outputs": [
    {
     "name": "stdout",
     "output_type": "stream",
     "text": [
      "value is zero\n",
      "value is zero\n",
      "sum equall to : 9\n"
     ]
    }
   ],
   "source": [
    "# 12) Write a Python program to sum of three given integers. However, if two values are equal sum will be zero. \n",
    "\n",
    "def integer(a,b,c):\n",
    "    if a==b or b==c or c==a:\n",
    "        print(\"value is zero\")\n",
    "    else:\n",
    "        sum = a+b+c\n",
    "        print(f\"sum equall to : {sum}\")\n",
    "\n",
    "integer(2,2,3)\n",
    "integer(2,2,1)\n",
    "integer(2,3,4)\n",
    "\n"
   ]
  },
  {
   "cell_type": "code",
   "execution_count": 29,
   "id": "446412b2-90fd-4e6d-98b9-f85dbc9f66b1",
   "metadata": {},
   "outputs": [
    {
     "name": "stdout",
     "output_type": "stream",
     "text": [
      "True\n",
      "False\n",
      "False\n",
      "True\n"
     ]
    }
   ],
   "source": [
    "# 13) Write a Python program that will return true if the two given integer values are equal or their sum or difference is 5.\n",
    "\n",
    "def sum(a,b):\n",
    "    if a==b or a+b==5 or a-b==5:\n",
    "        print(\"True\")\n",
    "    else:\n",
    "        print(\"False\")\n",
    "        \n",
    "\n",
    "sum(2,3)\n",
    "sum(7,3)\n",
    "sum(8,4)\n",
    "sum(1,1)"
   ]
  },
  {
   "cell_type": "code",
   "execution_count": 3,
   "id": "9b2ca296-8ae5-44b9-87eb-0cae7f949c89",
   "metadata": {},
   "outputs": [
    {
     "name": "stdin",
     "output_type": "stream",
     "text": [
      "Enter the nunber: 4\n"
     ]
    },
    {
     "name": "stdout",
     "output_type": "stream",
     "text": [
      "1\n",
      "3\n",
      "6\n"
     ]
    }
   ],
   "source": [
    "# 14)Write a python program to sum of the first n positive integers.\n",
    "\n",
    "sum = 0\n",
    "\n",
    "a = int(input(\"Enter the nunber:\"))\n",
    "\n",
    "for i in range(1,a):\n",
    "    sum = sum + i\n",
    "    print(sum)"
   ]
  },
  {
   "cell_type": "code",
   "execution_count": 35,
   "id": "09d573f8-aaea-4d5b-88b1-e871cd628103",
   "metadata": {},
   "outputs": [
    {
     "name": "stdout",
     "output_type": "stream",
     "text": [
      "13\n"
     ]
    }
   ],
   "source": [
    "# 15)Write a Python program to calculate the length of a string. \n",
    "\n",
    "a = \"Hello Bhargav\"\n",
    "print(len(a))"
   ]
  },
  {
   "cell_type": "code",
   "execution_count": 51,
   "id": "87af9d8f-8a42-4e97-96b0-d2324f950939",
   "metadata": {},
   "outputs": [
    {
     "name": "stdout",
     "output_type": "stream",
     "text": [
      "1 1 2 2 1 1 1 1 2 1 1 2 1 "
     ]
    }
   ],
   "source": [
    "# 16) Write a Python program to count the number of characters (character frequency) in a string \n",
    "string = \"Hello Bhargav\"\n",
    "for i in string:\n",
    "    frequency = string.count(i)\n",
    "    print(frequency, end = \" \")"
   ]
  },
  {
   "cell_type": "code",
   "execution_count": null,
   "id": "4d11d8c5-bfa4-4326-8913-0becb2f93667",
   "metadata": {},
   "outputs": [],
   "source": [
    "# 17)What are negative indexes and why are they used?\n",
    "Negative indexes are list and string..\n",
    "Negative indexing allows to access elements of a sequence from the end, using negative numbers as indexes. "
   ]
  },
  {
   "cell_type": "code",
   "execution_count": 55,
   "id": "d6b85e3b-2ce8-419c-94a2-c0587c9b0a31",
   "metadata": {},
   "outputs": [
    {
     "name": "stdout",
     "output_type": "stream",
     "text": [
      "5\n"
     ]
    }
   ],
   "source": [
    "# 18)Write a Python program to count occurrences of a substring in a string. \n",
    "\n",
    "a = \"bhargavpatelbhargavpatelbhargavpatelbhargavpatelbhargav\"\n",
    "sub = \"bhargav\"\n",
    "\n",
    "c = a.count(sub)\n",
    "print(c)\n"
   ]
  },
  {
   "cell_type": "code",
   "execution_count": 65,
   "id": "9d2f4592-0553-4ffa-b14e-5a00a11d39a5",
   "metadata": {},
   "outputs": [
    {
     "name": "stdout",
     "output_type": "stream",
     "text": [
      "5\n"
     ]
    }
   ],
   "source": [
    "# 19) Write a Python program to count the occurrences of each word in a given sentence\n",
    "\n",
    "a = \"bhargavpatelbhargavpatelbhargavpatelbhargavpatelbhargav\"\n",
    "c = a.count('g')\n",
    "print(c)\n"
   ]
  },
  {
   "cell_type": "code",
   "execution_count": 25,
   "id": "102ab9f8-72e7-4297-9fa0-ddf0f2dfee0f",
   "metadata": {},
   "outputs": [
    {
     "name": "stdout",
     "output_type": "stream",
     "text": [
      "Before swapping : Hello   Bhargav\n",
      "After Swap : Bhllo    Heargav\n"
     ]
    }
   ],
   "source": [
    "# 20) Write a Python program to get a single string from two given strings,\n",
    "#separated by a space and swap the first two characters of each string. \n",
    "\n",
    "a = \"Hello\"\n",
    "b = \"Bhargav\"\n",
    "\n",
    "print(\"Before swapping :\",a,\" \",b)\n",
    "\n",
    "c = b[:2] + a[2:]\n",
    "d = a[:2] + b[2:]\n",
    "\n",
    "print(\"After Swap :\",  c , \"  \", d)\n",
    "\n"
   ]
  },
  {
   "cell_type": "code",
   "execution_count": 21,
   "id": "906914a2-73bf-4226-bee8-5059b314fb66",
   "metadata": {},
   "outputs": [
    {
     "name": "stdout",
     "output_type": "stream",
     "text": [
      "bhaing\n",
      "bharing\n",
      "bharinging\n"
     ]
    }
   ],
   "source": [
    "# 21) Write a Python program to add 'in' at the end of a given string (length\n",
    "#should be at least 3. If the given string already ends with 'ing' then\n",
    "#add 'ly' instead if the string length of the given string is less than 3,\n",
    "#leave it unchanged.\n",
    "\n",
    "def addString(str):\n",
    "    length = len(str) ## store str value in length\n",
    "\n",
    "    if length < 3:\n",
    "       if str[-3:] == 'ing':\n",
    "          str += 'ly'\n",
    "\n",
    "    else:\n",
    "        str += 'ing'\n",
    "\n",
    "    return str\n",
    "\n",
    "print(addString('bha'))\n",
    "print(addString('bhar'))\n",
    "print(addString('bharing'))\n"
   ]
  },
  {
   "cell_type": "code",
   "execution_count": 33,
   "id": "4257c55c-9089-4e3c-91a6-9f73c313953e",
   "metadata": {},
   "outputs": [
    {
     "name": "stdout",
     "output_type": "stream",
     "text": [
      "Bhar\n"
     ]
    }
   ],
   "source": [
    "# 22) Write a Python function to reverses a string if its length is a multiple of 4. \n",
    "\n",
    "def reverse(str):\n",
    "    if len(str)%4 == 0:\n",
    "        print(str)\n",
    "    else:\n",
    "        print(\"Invalid string length\")\n",
    "\n",
    "reverse('Bhar')"
   ]
  },
  {
   "cell_type": "code",
   "execution_count": 15,
   "id": "e4167db3-4986-49c2-9ce9-b731657c6499",
   "metadata": {},
   "outputs": [
    {
     "name": "stdout",
     "output_type": "stream",
     "text": [
      "Bhav\n"
     ]
    }
   ],
   "source": [
    "# 23) Write a Python program to get a string made of the first 2 and the last \n",
    "#2 chars from a given a string. If the string length is less than 2, return\n",
    "#instead of the empty string.\n",
    "\n",
    "a = \"Bhargav\"\n",
    "\n",
    "if len(a) >= 2:\n",
    "    b = a[:2] + a[-2:]\n",
    "else:\n",
    "    print('Empty')\n",
    "    \n",
    "print(b) "
   ]
  },
  {
   "cell_type": "code",
   "execution_count": null,
   "id": "c504f690-adfc-4a23-9bd8-c326be448f73",
   "metadata": {},
   "outputs": [],
   "source": [
    "# 24)Write a Python function to insert a string in the middle of a string. "
   ]
  },
  {
   "cell_type": "code",
   "execution_count": null,
   "id": "4c1ebc09-dc8e-4cc0-95d5-cee952c1554e",
   "metadata": {},
   "outputs": [],
   "source": [
    "# 25)What is List? How will you reverse a list?\n",
    "\n",
    "# list is collection of data whic is enclosed in square brackets.\n",
    "# we can reverse the list by using reverse()...."
   ]
  },
  {
   "cell_type": "code",
   "execution_count": null,
   "id": "3d5e313e-c104-46c9-8f03-c6f17870ae44",
   "metadata": {},
   "outputs": [],
   "source": [
    "# 26)How will you remove last object from a list?\n",
    "\n",
    "# we can remove last object by using pop() method\n"
   ]
  },
  {
   "cell_type": "code",
   "execution_count": 7,
   "id": "67e5a576-856a-4813-aa0a-5e8361b8767c",
   "metadata": {},
   "outputs": [
    {
     "name": "stdout",
     "output_type": "stream",
     "text": [
      "[25]\n"
     ]
    }
   ],
   "source": [
    "# 27)Suppose list1 is [2, 33, 222, 14, and 25], what is list1 [-1]? \n",
    "\n",
    "# list [-1] is the last value of list 25.\n",
    "\n",
    "ls = [2,33,222,14,25]\n",
    "a = ls[-1:]\n",
    "print(a)"
   ]
  },
  {
   "cell_type": "code",
   "execution_count": null,
   "id": "a846bf11-c946-4d66-94ef-97161f56deec",
   "metadata": {},
   "outputs": [],
   "source": [
    "# 28)Differentiate between append () and extend () methods?\n",
    "\n",
    "# Add the single element to the end of the list by using append()\n",
    "# Add the multiple element to the end of the list by using extend()"
   ]
  },
  {
   "cell_type": "code",
   "execution_count": 23,
   "id": "ae04795e-0203-471d-a0c6-ec239671c2c9",
   "metadata": {},
   "outputs": [
    {
     "name": "stdout",
     "output_type": "stream",
     "text": [
      "7\n",
      "1\n",
      "28\n"
     ]
    }
   ],
   "source": [
    "# 29) Write a Python function to get the largest number, smallest num and sum of all from a list. \n",
    "\n",
    "ls = [1,2,3,4,5,6,7]\n",
    "\n",
    "largest = max(ls)\n",
    "print(largest)\n",
    "\n",
    "smallest = min(ls)\n",
    "print(smallest)\n",
    "\n",
    "add = sum(ls)\n",
    "print(add)\n"
   ]
  },
  {
   "cell_type": "code",
   "execution_count": null,
   "id": "bd33e9ed-c306-4713-8f05-f8f04d55f235",
   "metadata": {},
   "outputs": [],
   "source": [
    "# 30)How will you compare two lists? \n",
    "# for comparision we can use == operator.."
   ]
  },
  {
   "cell_type": "code",
   "execution_count": null,
   "id": "322f6caa-44af-43db-bd24-27d32d44d21a",
   "metadata": {},
   "outputs": [],
   "source": [
    "#31) Write a Python program to count the number of strings where the string\n",
    "#length is 2 or more and the first and last character are same from a given list\n",
    "#of strings. "
   ]
  },
  {
   "cell_type": "code",
   "execution_count": 37,
   "id": "ff1c14bc-8d3d-4069-9a39-52267a9252b1",
   "metadata": {},
   "outputs": [
    {
     "name": "stdout",
     "output_type": "stream",
     "text": [
      "{1, 2, 3, 4, 5, 6}\n"
     ]
    }
   ],
   "source": [
    "# 32)Write a Python program to remove duplicates from a list\n",
    "\n",
    "ls = [1,2,1,3,4,2,5,6,2]\n",
    "print(set(ls))"
   ]
  },
  {
   "cell_type": "code",
   "execution_count": 43,
   "id": "7e9754f7-e144-4f85-90c6-bdb28179f0dd",
   "metadata": {},
   "outputs": [
    {
     "name": "stdout",
     "output_type": "stream",
     "text": [
      "List is empty\n"
     ]
    }
   ],
   "source": [
    "# 33)Write a Python program to check a list is empty or not. \n",
    "\n",
    "ls = []\n",
    "\n",
    "if not ls:\n",
    "    print(\"List is empty\")\n",
    "else:\n",
    "    print(\"List is not empty\")"
   ]
  },
  {
   "cell_type": "code",
   "execution_count": 61,
   "id": "3c1974b8-bd09-4364-b4b2-51839a906725",
   "metadata": {},
   "outputs": [
    {
     "name": "stdout",
     "output_type": "stream",
     "text": [
      "True\n",
      "False\n",
      "False\n",
      "False\n",
      "True\n",
      "False\n",
      "False\n",
      "False\n",
      "False\n",
      "None\n"
     ]
    }
   ],
   "source": [
    "# 34) Write a Python function that takes two lists and returns true if they have at least one common member. \n",
    "\n",
    "def comman(ls1,ls2):\n",
    "    for a in ls1:\n",
    "        for b in ls2:\n",
    "            if a == b:\n",
    "                print(\"True\")\n",
    "            else:\n",
    "                print(\"False\")\n",
    "                \n",
    "\n",
    "print(comman([1,2,3],[1,2,5]))"
   ]
  },
  {
   "cell_type": "code",
   "execution_count": 27,
   "id": "87858734-4b1c-492c-a5e7-837c387d59d6",
   "metadata": {},
   "outputs": [
    {
     "name": "stdout",
     "output_type": "stream",
     "text": [
      "[]\n",
      "[]\n"
     ]
    }
   ],
   "source": [
    "# 35) Write a Python program to generate and print a list of first and last 5\n",
    "# elements where the values are square of numbers between 1 and 30.\n",
    "\n",
    "ls = list()\n",
    "for i in range(1,30):\n",
    "    i = i**2\n",
    "print(ls[:5])\n",
    "print(ls[-5:])       "
   ]
  },
  {
   "cell_type": "code",
   "execution_count": null,
   "id": "1f14b3d7-4f15-4a31-870f-758489e03e16",
   "metadata": {},
   "outputs": [],
   "source": [
    "# 36) Write a Python function that takes a list and returns a new list with\n",
    "#unique elements of the first list. \n"
   ]
  },
  {
   "cell_type": "code",
   "execution_count": 47,
   "id": "5df9ea5e-2139-49e5-8d44-cadd3d5d324d",
   "metadata": {},
   "outputs": [
    {
     "name": "stdout",
     "output_type": "stream",
     "text": [
      "BHARGAV\n"
     ]
    }
   ],
   "source": [
    "# 37)Write a Python program to convert a list of characters into a string. \n",
    "\n",
    "ls = ['B','H','A','R','G','A','V']\n",
    "a = ''.join(ls)\n",
    "print(a)"
   ]
  },
  {
   "cell_type": "code",
   "execution_count": 53,
   "id": "75111e6b-0b5d-414f-86b6-55ee48e45d5e",
   "metadata": {},
   "outputs": [
    {
     "data": {
      "text/plain": [
       "90"
      ]
     },
     "execution_count": 53,
     "metadata": {},
     "output_type": "execute_result"
    }
   ],
   "source": [
    "# 38)Write a Python program to select an item randomly from a list.\n",
    "\n",
    "import random\n",
    "\n",
    "ls = [1,12,34,23,56,90,27,65,43,10]\n",
    "random.choice(ls)"
   ]
  },
  {
   "cell_type": "code",
   "execution_count": 11,
   "id": "aa3091f0-514d-4749-89d0-113f70f845e2",
   "metadata": {},
   "outputs": [
    {
     "name": "stdout",
     "output_type": "stream",
     "text": [
      "Second smallest number :  3\n"
     ]
    }
   ],
   "source": [
    "# 39)Write a Python program to find the second smallest number in a list. \n",
    "\n",
    "ls = [2,32,4,56,3,12]\n",
    "ls.sort()\n",
    "\n",
    "print(\"Second smallest number : \",ls[1])\n",
    "\n",
    "## to find largest number range start form -1 \n"
   ]
  },
  {
   "cell_type": "code",
   "execution_count": 13,
   "id": "94fde94b-6ad9-4d4a-a0d8-658e0dc6e494",
   "metadata": {},
   "outputs": [
    {
     "name": "stdout",
     "output_type": "stream",
     "text": [
      "[1, 2, 34, 67, 45, 23]\n"
     ]
    }
   ],
   "source": [
    "# 40)Write a Python program to get unique values from a list\n",
    "\n",
    "ls = [1,2,23,45,2,1,34,2,45,67,2]\n",
    "a = (list(set(ls)))\n",
    "print(a)"
   ]
  },
  {
   "cell_type": "code",
   "execution_count": 31,
   "id": "cfa4a30e-d8a8-4d09-afed-8838230adabf",
   "metadata": {},
   "outputs": [
    {
     "name": "stdout",
     "output_type": "stream",
     "text": [
      "Sublist is not exist\n",
      "Sublist is not exist\n",
      "Sublist is exist\n",
      "Sublist is not exist\n",
      "Sublist is not exist\n",
      "Sublist is not exist\n",
      "Sublist is not exist\n",
      "Sublist is not exist\n",
      "Sublist is not exist\n",
      "Sublist is exist\n"
     ]
    }
   ],
   "source": [
    "# 41)Write a Python program to check whether a list contains a sub list \n",
    "\n",
    "ls1 = [1,2,3,4,5]\n",
    "ls2 = [2,5]\n",
    "count = 0\n",
    "for i in ls1:\n",
    "    for a in ls2:\n",
    "        if i == a:\n",
    "           print(\"Sublist is exist\")\n",
    "        else :\n",
    "            print(\"Sublist is not exist\")\n",
    "\n"
   ]
  },
  {
   "cell_type": "code",
   "execution_count": null,
   "id": "142b513c-a2ae-431f-91fc-03524483a1c8",
   "metadata": {},
   "outputs": [],
   "source": [
    "# 42)Write a Python program to split a list into different variables\n",
    "\n"
   ]
  },
  {
   "cell_type": "code",
   "execution_count": null,
   "id": "54177f94-bdce-4c3c-83d0-e024b515273a",
   "metadata": {},
   "outputs": [],
   "source": [
    "# 43) What is tuple? Difference between list and tuple.\n",
    "# tuple is built- in date type that is used to store an ordered collection of items.\n",
    "\n",
    "# difference between list and tuple:\n",
    "# list is mutable and tuple is immutable\n",
    "# Square breacket used to create list and parenthesis is used to create tuple\n",
    "# List support different built-in function  but tuple support only two function index() and count()"
   ]
  },
  {
   "cell_type": "code",
   "execution_count": 33,
   "id": "c67d5c2d-79bf-471c-9997-dc18a48835e8",
   "metadata": {},
   "outputs": [
    {
     "name": "stdout",
     "output_type": "stream",
     "text": [
      "(1, 2, 'A', 3, 'V', 0.2, 0.4)\n"
     ]
    }
   ],
   "source": [
    "# 44)Write a Python program to create a tuple with different data types.\n",
    "\n",
    "a = (1,2,\"A\",3,\"V\",0.2,00.4)\n",
    "print(a)"
   ]
  },
  {
   "cell_type": "code",
   "execution_count": 35,
   "id": "4ad41301-7349-4af4-acd9-ab56e712cfe0",
   "metadata": {},
   "outputs": [
    {
     "name": "stdout",
     "output_type": "stream",
     "text": [
      "[('Bhargav', 'Patel'), ('Harsh', 'Shah'), ('Raj', 'Bhatt')]\n"
     ]
    }
   ],
   "source": [
    "# 45)Write a Python program to unzip a list of tuples into individual lists. \n",
    "\n",
    "first_name = [\"Bhargav\",\"Harsh\",\"Raj\"]\n",
    "last_name = [\"Patel\",\"Shah\",\"Bhatt\"]\n",
    "\n",
    "print(list(zip(first_name,last_name)))"
   ]
  },
  {
   "cell_type": "code",
   "execution_count": 43,
   "id": "df0eadd9-6889-4696-958b-17f3e09f0116",
   "metadata": {},
   "outputs": [
    {
     "name": "stdout",
     "output_type": "stream",
     "text": [
      "{'Bhargav': 1, 'Harsh': 2, 'Nirav': 3}\n"
     ]
    }
   ],
   "source": [
    "# 46)Write a Python program to convert a list of tuples into a dictionary\n",
    "\n",
    "ls = [('Bhargav', 1),('Harsh',2),('Nirav',3)]\n",
    "\n",
    "a = dict(ls) ## Converting into list by using dict \n",
    "print(a)"
   ]
  },
  {
   "cell_type": "code",
   "execution_count": null,
   "id": "554ea416-3dff-4c78-a104-d62f93197ae8",
   "metadata": {},
   "outputs": [],
   "source": [
    "# 47)How will you create a dictionary using tuples in python?\n",
    "#We can use groupby() to convert tuples into a dictionary where the first element of each tuple becomes the key,\n",
    "# and the second element becomes the value. "
   ]
  },
  {
   "cell_type": "code",
   "execution_count": 59,
   "id": "d319a403-4ec8-43f8-bd40-4653ff0f6d92",
   "metadata": {},
   "outputs": [
    {
     "name": "stdout",
     "output_type": "stream",
     "text": [
      "Ascending order:  ['Bhargav', 'Kushal', 'Zeel']\n",
      "Descending order:  ['Zeel', 'Kushal', 'Bhargav']\n"
     ]
    }
   ],
   "source": [
    "# 48)Write a Python script to sort (ascending and descending) a dictionary by value. \n",
    "\n",
    "dic = {'Bhargav':1,'Zeel':3,'Kushal':0}\n",
    "a= list(dic)# convert into list\n",
    "b=list(dic)\n",
    "a.sort() # ascending order\n",
    "b.sort(reverse = True) # descending order\n",
    "print(\"Ascending order: \",a)\n",
    "print(\"Descending order: \",b)"
   ]
  },
  {
   "cell_type": "code",
   "execution_count": 71,
   "id": "16df4cbf-6368-4353-b505-4fbe03697e8e",
   "metadata": {},
   "outputs": [
    {
     "name": "stdout",
     "output_type": "stream",
     "text": [
      "{'a': 1, 'b': 2, 'c': 3, 'd': 4}\n"
     ]
    }
   ],
   "source": [
    "# 49)Write a Python script to concatenate following dictionaries to create a new one.\n",
    "\n",
    "a = {'a': 1, 'b':2, 'c':3}\n",
    "b = {'d':4}\n",
    "a.update(b)\n",
    "print(a)"
   ]
  },
  {
   "cell_type": "code",
   "execution_count": 67,
   "id": "bd4870fe-4f10-460e-8498-45ae2eac639c",
   "metadata": {},
   "outputs": [
    {
     "name": "stdout",
     "output_type": "stream",
     "text": [
      "Key is already exist\n"
     ]
    }
   ],
   "source": [
    "# 50)Write a Python script to check if a given key already exists in a dictionary. \n",
    "\n",
    "dic = {1:\"Bhargav\",2:\"Raj\",3:\"Harsh\",4:\"Mehul\",5:\"Nirav\"}\n",
    "\n",
    "if 4 in dic:\n",
    "    print(\"Key is already exist\")\n",
    "else:\n",
    "    print(\"Key is not exist\")"
   ]
  },
  {
   "cell_type": "code",
   "execution_count": null,
   "id": "68fd89f0-741d-49c9-9703-fefa5602a6f7",
   "metadata": {},
   "outputs": [],
   "source": [
    "# 51)How Do You Traverse Through a Dictionary Object in Python?\n",
    "# by using key, value() an key and value()"
   ]
  },
  {
   "cell_type": "code",
   "execution_count": null,
   "id": "6d673110-0513-48ca-80ce-fa85f5983ecd",
   "metadata": {},
   "outputs": [],
   "source": [
    "# 52)How Do You Check the Presence of a Key in A Dictionary? \n",
    "# we can use different method to check key is present or not in a dictionary\n",
    "#first is in operator\n",
    "#second is Keyerror exception\n",
    "#third is keymethod()\n",
    "#four is getmethod()\n"
   ]
  },
  {
   "cell_type": "code",
   "execution_count": 1,
   "id": "104b9850-8be8-4d00-a1ea-70bfee6ff470",
   "metadata": {},
   "outputs": [
    {
     "ename": "TypeError",
     "evalue": "'int' object is not iterable",
     "output_type": "error",
     "traceback": [
      "\u001b[1;31m---------------------------------------------------------------------------\u001b[0m",
      "\u001b[1;31mTypeError\u001b[0m                                 Traceback (most recent call last)",
      "Cell \u001b[1;32mIn[1], line 4\u001b[0m\n\u001b[0;32m      1\u001b[0m \u001b[38;5;66;03m# 53)Write a Python script to print a dictionary where the keys are numbers between 1 and 15. \u001b[39;00m\n\u001b[0;32m      3\u001b[0m \u001b[38;5;28;01mfor\u001b[39;00m i \u001b[38;5;129;01min\u001b[39;00m \u001b[38;5;28mrange\u001b[39m(\u001b[38;5;241m1\u001b[39m,\u001b[38;5;241m16\u001b[39m):\n\u001b[1;32m----> 4\u001b[0m     \u001b[38;5;28mprint\u001b[39m(\u001b[38;5;28mdict\u001b[39m(i))\n",
      "\u001b[1;31mTypeError\u001b[0m: 'int' object is not iterable"
     ]
    }
   ],
   "source": [
    "# 53)Write a Python script to print a dictionary where the keys are numbers between 1 and 15. \n",
    "\n",
    "for i in range(1,16):\n",
    "    print(dict(i))\n"
   ]
  },
  {
   "cell_type": "code",
   "execution_count": 79,
   "id": "a93fa35f-d479-4538-8f55-4babd542acdf",
   "metadata": {},
   "outputs": [
    {
     "name": "stdout",
     "output_type": "stream",
     "text": [
      "Present\n"
     ]
    }
   ],
   "source": [
    "# 54)Write a Python program to check multiple keys exists in a dictionary\n",
    "\n",
    "dic = {\"Bhargav\":1, \"Harsh\":2, \"Nirav\":3 }\n",
    "check = {\"Bhargav\",\"Nirav\"}\n",
    "\n",
    "if(dic.keys()) >= check: # >= symbol use to check key is present or not\n",
    "    print(\"Present\")\n",
    "else:\n",
    "    print(\"Absent\")"
   ]
  },
  {
   "cell_type": "code",
   "execution_count": 91,
   "id": "ad36f523-e762-4e99-b55c-50d6581f0286",
   "metadata": {},
   "outputs": [
    {
     "name": "stdout",
     "output_type": "stream",
     "text": [
      "{'Student_name': 'Bhargav', 'Student_id': 21, 'Collage_name': 'Charusat', 'Mobile_number': 7874066651}\n"
     ]
    }
   ],
   "source": [
    "# 55)Write a Python script to merge two Python dictionaries\n",
    "\n",
    "dic1 = {\"Student_name\":\"Bhargav\",\"Student_id\":21}\n",
    "dic2 = {\"Collage_name\": \"Charusat\",\"Mobile_number\":7874066651}\n",
    "\n",
    "#a = dic1 | dic2 # first method\n",
    "#print(a)\n",
    "\n",
    "dic1.update(dic2) # second method\n",
    "print(dic1)"
   ]
  },
  {
   "cell_type": "code",
   "execution_count": 95,
   "id": "434cb102-562e-4912-9618-334820cd14b6",
   "metadata": {},
   "outputs": [
    {
     "name": "stdout",
     "output_type": "stream",
     "text": [
      "{'Student_name': 'Bhargav', 'Student_course': 'Data Analystics', 'Student_id': 21}\n"
     ]
    }
   ],
   "source": [
    "# 56)Write a Python program to map two lists into a dictionary \n",
    "\n",
    "ls1 = [\"Student_name\",\"Student_course\",\"Student_id\"]\n",
    "ls2 = [\"Bhargav\",\"Data Analystics\",21]\n",
    "\n",
    "a = dict(zip(ls1,ls2))\n",
    "print(a)"
   ]
  },
  {
   "cell_type": "code",
   "execution_count": null,
   "id": "83b5e977-78b9-4ba8-9ac1-fbd27f172d41",
   "metadata": {},
   "outputs": [],
   "source": [
    "# 57)Write a Python program to find the highest 3 values in a dictionary "
   ]
  },
  {
   "cell_type": "code",
   "execution_count": null,
   "id": "74407ef4-d902-441f-84eb-607c18484f0c",
   "metadata": {},
   "outputs": [],
   "source": [
    "# 58)Write a Python program to combine values in python list of dictionaries.\n",
    "Sample data: [{'item': 'item1', 'amount': 400}, {'item': 'item2', 'amount':\n",
    "300}, o {'item': 'item1', 'amount': 750}]\n",
    "\n"
   ]
  },
  {
   "cell_type": "code",
   "execution_count": null,
   "id": "7968f9dc-37d0-4c2a-beb3-3e8ac09bd992",
   "metadata": {},
   "outputs": [],
   "source": [
    "# 59)Write a Python program to create a dictionary from a string.\n",
    "# Note: Track the count of the letters from the string.\n",
    "\n"
   ]
  },
  {
   "cell_type": "code",
   "execution_count": 99,
   "id": "72855904-c207-4bae-9737-308b5d8365c5",
   "metadata": {},
   "outputs": [
    {
     "name": "stdout",
     "output_type": "stream",
     "text": [
      "{'3': 1, 's': 1, 'r': 2, 'u': 1, 'w': 1, 'c': 1, 'e': 2, 'o': 1}\n"
     ]
    }
   ],
   "source": [
    "# 60)\n",
    "\n",
    "a = \"{'3': 1,'s': 1, 'r': 2, 'u': 1, 'w': 1, 'c': 1, 'e': 2, 'o': 1}\"\n",
    "b = eval(a) #eval() is built_in function in python to evaluate string od dictionary\n",
    "print(b)"
   ]
  },
  {
   "cell_type": "code",
   "execution_count": null,
   "id": "01d734fb-c6f4-437c-8c26-eccac8f75aed",
   "metadata": {},
   "outputs": [],
   "source": [
    "# 61)Write a Python function to calculate the factorial of a number (a nonnegative integer) \n"
   ]
  },
  {
   "cell_type": "code",
   "execution_count": null,
   "id": "acd1d2b5-7ff0-49fb-8045-7ef99454175b",
   "metadata": {},
   "outputs": [],
   "source": [
    "# 62)Write a Python function to check whether a number is in a given range\n",
    "\n"
   ]
  },
  {
   "cell_type": "code",
   "execution_count": 37,
   "id": "0d98e466-dfee-4b6b-98d1-05cd5c493873",
   "metadata": {},
   "outputs": [
    {
     "name": "stdin",
     "output_type": "stream",
     "text": [
      "Enter the number :  4\n"
     ]
    },
    {
     "name": "stdout",
     "output_type": "stream",
     "text": [
      "Number is not perfect\n"
     ]
    }
   ],
   "source": [
    "# 63)Write a Python function to check whether a number is perfect or not. \n",
    "\n",
    "a = int(input(\"Enter the number : \"))\n",
    "sum = 0\n",
    "\n",
    "for i in range(1,a):\n",
    "    if a % i == 0:\n",
    "        sum = sum + i\n",
    "\n",
    "if (sum == a):\n",
    "    print(\"Number is perfect\")\n",
    "else:\n",
    "    print(\"Number is not perfect\")\n"
   ]
  },
  {
   "cell_type": "code",
   "execution_count": null,
   "id": "b6afd9f1-fcee-40a6-8c27-93ec59599287",
   "metadata": {},
   "outputs": [],
   "source": [
    "# 64)Write a Python function that checks whether a passed string is\n",
    "#palindrome or not \n",
    "\n"
   ]
  },
  {
   "cell_type": "code",
   "execution_count": null,
   "id": "347b68b2-cf33-40da-b011-1b6679300a6d",
   "metadata": {},
   "outputs": [],
   "source": [
    "# 65)How Many Basic Types of Functions Are Available in Python?\n",
    "\n",
    "# there are three types of functions\n",
    "# first is built-in function\n",
    "#second is user define function\n",
    "#third is anonymous function (Lambda function)"
   ]
  },
  {
   "cell_type": "code",
   "execution_count": 39,
   "id": "152b4b1a-6bc9-493c-84ba-d42e5841fccb",
   "metadata": {},
   "outputs": [],
   "source": [
    "# 66)How can you pick a random item from a list or tuple?\n",
    "# by using random.choice()"
   ]
  },
  {
   "cell_type": "code",
   "execution_count": 43,
   "id": "df2ef025-c898-4793-ac5e-c6cfc842d08e",
   "metadata": {},
   "outputs": [
    {
     "name": "stdout",
     "output_type": "stream",
     "text": [
      "3\n"
     ]
    }
   ],
   "source": [
    "#67)How can you pick a random item from a range? \n",
    "# by using random.choice()\n",
    "\n",
    "import random\n",
    "\n",
    "ls = [1,2,3,4,5,6,7,8,9,10]\n",
    "\n",
    "a = random.choice(ls)\n",
    "print(a)\n"
   ]
  },
  {
   "cell_type": "code",
   "execution_count": 49,
   "id": "48fc26f8-2fac-4a98-9414-010e02fdcd2f",
   "metadata": {},
   "outputs": [
    {
     "name": "stdin",
     "output_type": "stream",
     "text": [
      "Enter the number  :  4\n"
     ]
    },
    {
     "name": "stdout",
     "output_type": "stream",
     "text": [
      "0.7218893689871357\n"
     ]
    }
   ],
   "source": [
    "# 68)How can you get a random number in python? \n",
    "# by using random.random()\n",
    "\n",
    "nunber = int(input(\"Enter the number  : \"))\n",
    "number = random.random()\n",
    "print(number)"
   ]
  },
  {
   "cell_type": "code",
   "execution_count": 53,
   "id": "e2c1a61a-6a4e-49f6-8401-6b3c5850e0d7",
   "metadata": {},
   "outputs": [
    {
     "name": "stdout",
     "output_type": "stream",
     "text": [
      "0.5714025946899135\n"
     ]
    }
   ],
   "source": [
    "# 69)How will you set the starting value in generating random numbers? \n",
    "#by using ramdom.seed()\n",
    "\n",
    "random.seed(10)\n",
    "print(random.random())"
   ]
  },
  {
   "cell_type": "code",
   "execution_count": 71,
   "id": "d5742be2-07eb-468a-99a1-edd9e92d4345",
   "metadata": {},
   "outputs": [
    {
     "name": "stdout",
     "output_type": "stream",
     "text": [
      "[0.02, 67, 45, 22, 32, 96, 34, 85, 12]\n"
     ]
    }
   ],
   "source": [
    "# 70) How will you randomize the items of a list in place?\n",
    "# by using random.shuffle()\n",
    "\n",
    "ls = [12,34,22,45,67,32,96,0.02,85]\n",
    "random.shuffle(ls)\n",
    "print(ls)"
   ]
  },
  {
   "cell_type": "code",
   "execution_count": null,
   "id": "7a12dbf4-ebdd-409e-bd20-75b9f0bba109",
   "metadata": {},
   "outputs": [],
   "source": [
    "# 71)What is File function in python? What are keywords to create and write file.\n",
    "\n",
    "# X is used to create file and W is used to write file\n"
   ]
  },
  {
   "cell_type": "code",
   "execution_count": 77,
   "id": "30e3683a-eefc-4d08-b2e5-51b7028f9a77",
   "metadata": {},
   "outputs": [
    {
     "name": "stdout",
     "output_type": "stream",
     "text": [
      "Welcome to python!!!\n"
     ]
    }
   ],
   "source": [
    "# 72)Write a Python program to read an entire text file. \n",
    "\n",
    "file = open(\"hello.txt\",\"r\")\n",
    "print(file.read())"
   ]
  },
  {
   "cell_type": "code",
   "execution_count": 83,
   "id": "0759379f-1c49-4b3c-a27a-6352b84232fe",
   "metadata": {},
   "outputs": [
    {
     "name": "stdout",
     "output_type": "stream",
     "text": [
      "Welcome to python!!!I am bhargav patel\n",
      "I am bhargav patel\n",
      "Good morning\n",
      "How are you\n",
      "\n"
     ]
    }
   ],
   "source": [
    "# 73)Write a Python program to append text to a file and display the text\n",
    "\n",
    "file = open(\"hello.txt\",\"a\")\n",
    "file.write(\"I am bhargav patel\\n\")\n",
    "file.write(\"Good morning\\n\")\n",
    "file.write(\"How are you\\n\")\n",
    "file.close()\n",
    "\n",
    "file = open(\"hello.txt\",\"r\")\n",
    "print(file.read())"
   ]
  },
  {
   "cell_type": "code",
   "execution_count": 87,
   "id": "7f451d73-c00f-4c37-b3a0-ba143f06aa0d",
   "metadata": {},
   "outputs": [
    {
     "name": "stdin",
     "output_type": "stream",
     "text": [
      "Enter the nunber of lines you want to read :  3\n"
     ]
    },
    {
     "name": "stdout",
     "output_type": "stream",
     "text": [
      "Welcome to python!!!I am bhargav patel\n",
      "\n",
      "I am bhargav patel\n",
      "\n",
      "Good morning\n",
      "\n"
     ]
    }
   ],
   "source": [
    "# 74)Write a Python program to read first n lines of a file\n",
    "\n",
    "a = int(input(\"Enter the nunber of lines you want to read : \"))\n",
    "\n",
    "file = open(\"hello.txt\",\"r\")\n",
    "for i in range(a):\n",
    "    print(file.readline())"
   ]
  },
  {
   "cell_type": "code",
   "execution_count": null,
   "id": "a4be020c-6b30-4e77-9b28-303db38e2fe0",
   "metadata": {},
   "outputs": [],
   "source": [
    "# 75)Write a Python program to read last n lines of a file.\n"
   ]
  }
 ],
 "metadata": {
  "kernelspec": {
   "display_name": "Python [conda env:base] *",
   "language": "python",
   "name": "conda-base-py"
  },
  "language_info": {
   "codemirror_mode": {
    "name": "ipython",
    "version": 3
   },
   "file_extension": ".py",
   "mimetype": "text/x-python",
   "name": "python",
   "nbconvert_exporter": "python",
   "pygments_lexer": "ipython3",
   "version": "3.12.7"
  }
 },
 "nbformat": 4,
 "nbformat_minor": 5
}
